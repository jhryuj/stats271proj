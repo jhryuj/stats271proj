{
 "cells": [
  {
   "cell_type": "markdown",
   "metadata": {},
   "source": [
    "Name: Joshua Ryu\n",
    "\n",
    "Date: 5/29/2021\n"
   ]
  },
  {
   "cell_type": "code",
   "execution_count": 20,
   "metadata": {},
   "outputs": [],
   "source": [
    "import copy, os\n",
    "import tensorflow as tf\n",
    "\n",
    "import pickle\n",
    "import matplotlib.pyplot as plt\n",
    "\n",
    "import sys\n",
    "sys.path.append(\"D:\\\\GardnerLabGit\\\\tracking_tint\")\n",
    "from src.sofc.dynamics.hand1D import hand1D\n",
    "from src.sofc.dynamics.hand1D_params import hand1D_params\n",
    "from src.sofc.estimation.observer import observer\n",
    "from src.sofc.estimation.lqg import LQG\n",
    "from src.sofc.estimation.EM_estimation import EM_estimation"
   ]
  },
  {
   "cell_type": "code",
   "execution_count": 22,
   "metadata": {},
   "outputs": [
    {
     "ename": "NotImplementedError",
     "evalue": "",
     "output_type": "error",
     "traceback": [
      "\u001b[1;31m---------------------------------------------------------------------------\u001b[0m",
      "\u001b[1;31mNotImplementedError\u001b[0m                       Traceback (most recent call last)",
      "\u001b[1;32m<ipython-input-22-542e0a750c82>\u001b[0m in \u001b[0;36m<module>\u001b[1;34m\u001b[0m\n\u001b[0;32m      7\u001b[0m \u001b[0mtrainset\u001b[0m \u001b[1;33m=\u001b[0m\u001b[1;33m{\u001b[0m\u001b[1;33m}\u001b[0m\u001b[1;33m\u001b[0m\u001b[1;33m\u001b[0m\u001b[0m\n\u001b[0;32m      8\u001b[0m \u001b[0mtrainset\u001b[0m\u001b[1;33m[\u001b[0m\u001b[1;34m'obs'\u001b[0m\u001b[1;33m]\u001b[0m \u001b[1;33m=\u001b[0m \u001b[0mobserver\u001b[0m\u001b[1;33m(\u001b[0m\u001b[0mN\u001b[0m \u001b[1;33m=\u001b[0m \u001b[0mconds\u001b[0m\u001b[1;33m)\u001b[0m\u001b[1;33m\u001b[0m\u001b[1;33m\u001b[0m\u001b[0m\n\u001b[1;32m----> 9\u001b[1;33m \u001b[0mtrainset\u001b[0m\u001b[1;33m[\u001b[0m\u001b[1;34m'obs'\u001b[0m\u001b[1;33m]\u001b[0m\u001b[1;33m.\u001b[0m\u001b[0mprintVariables\u001b[0m\u001b[1;33m(\u001b[0m\u001b[1;33m)\u001b[0m\u001b[1;33m\u001b[0m\u001b[1;33m\u001b[0m\u001b[0m\n\u001b[0m\u001b[0;32m     10\u001b[0m \u001b[1;33m\u001b[0m\u001b[0m\n\u001b[0;32m     11\u001b[0m \u001b[0mx_list\u001b[0m\u001b[1;33m,\u001b[0m \u001b[0mxhat_list\u001b[0m\u001b[1;33m,\u001b[0m \u001b[0mu_list\u001b[0m\u001b[1;33m,\u001b[0m \u001b[0mtt_list\u001b[0m \u001b[1;33m=\u001b[0m\u001b[0;31m \u001b[0m\u001b[0;31m\\\u001b[0m\u001b[1;33m\u001b[0m\u001b[1;33m\u001b[0m\u001b[0m\n",
      "\u001b[1;32mD:\\GardnerLabGit\\tracking_tint\\src\\sofc\\estimation\\observer.py\u001b[0m in \u001b[0;36mprintVariables\u001b[1;34m(self)\u001b[0m\n\u001b[0;32m    150\u001b[0m         \u001b[0mstr\u001b[0m \u001b[1;33m=\u001b[0m \u001b[1;34m''\u001b[0m\u001b[1;33m\u001b[0m\u001b[1;33m\u001b[0m\u001b[0m\n\u001b[0;32m    151\u001b[0m         \u001b[1;32mfor\u001b[0m \u001b[0mvar\u001b[0m \u001b[1;32min\u001b[0m \u001b[0mself\u001b[0m\u001b[1;33m.\u001b[0m\u001b[0mtrainable_variables\u001b[0m\u001b[1;33m:\u001b[0m\u001b[1;33m\u001b[0m\u001b[1;33m\u001b[0m\u001b[0m\n\u001b[1;32m--> 152\u001b[1;33m             \u001b[0mstr\u001b[0m \u001b[1;33m+=\u001b[0m \u001b[1;34m'{0:s} = {1:.3e} \\n'\u001b[0m\u001b[1;33m.\u001b[0m\u001b[0mformat\u001b[0m\u001b[1;33m(\u001b[0m\u001b[0mvar\u001b[0m\u001b[1;33m.\u001b[0m\u001b[0mname\u001b[0m\u001b[1;33m,\u001b[0m \u001b[0mvar\u001b[0m\u001b[1;33m.\u001b[0m\u001b[0mnumpy\u001b[0m\u001b[1;33m(\u001b[0m\u001b[1;33m)\u001b[0m\u001b[1;33m.\u001b[0m\u001b[0mitem\u001b[0m\u001b[1;33m(\u001b[0m\u001b[1;33m)\u001b[0m\u001b[1;33m)\u001b[0m\u001b[1;33m\u001b[0m\u001b[1;33m\u001b[0m\u001b[0m\n\u001b[0m\u001b[0;32m    153\u001b[0m         \u001b[0mprint\u001b[0m\u001b[1;33m(\u001b[0m\u001b[0mstr\u001b[0m\u001b[1;33m)\u001b[0m\u001b[1;33m\u001b[0m\u001b[1;33m\u001b[0m\u001b[0m\n",
      "\u001b[1;31mNotImplementedError\u001b[0m: "
     ]
    }
   ],
   "source": [
    "\n",
    "# dynamics to be used\n",
    "dyn         = hand1D(hand1D_params())\n",
    "lqg         = LQG(dyn, clip_gradients = False, debug = False)\n",
    "conds       = 2 # number of conditions (sensory parameters to generate)\n",
    "\n",
    "# generate training set\n",
    "trainset ={}\n",
    "trainset['obs'] = observer(N = conds)\n",
    "trainset['obs'].printVariables()\n",
    "\n",
    "x_list, xhat_list, u_list, tt_list = \\\n",
    "    lqg.simulate(dyn,trainset['obs'],batch_size=3)\n",
    "\n",
    "trainset['x'] = x_list\n",
    "trainset['xhat'] = xhat_list\n",
    "trainset['u'] = u_list\n",
    "\n",
    "# build a model observer\n",
    "model = observer(N = conds)\n",
    "model.printVariables()"
   ]
  },
  {
   "cell_type": "code",
   "execution_count": 14,
   "metadata": {},
   "outputs": [
    {
     "data": {
      "text/plain": [
       "-2.9471888542175293"
      ]
     },
     "execution_count": 14,
     "metadata": {},
     "output_type": "execute_result"
    }
   ],
   "source": []
  },
  {
   "cell_type": "code",
   "execution_count": 16,
   "metadata": {},
   "outputs": [
    {
     "name": "stdout",
     "output_type": "stream",
     "text": [
      "log_ca_hand:0 = -2.947e+00 \n",
      "log_r:0 = -7.648e+00 \n",
      "log_sz0:0 = -1.151e+01 \n",
      "log_sa_target0_:0 = -1.323e+00 \n",
      "log_sa_target1_:0 = -1.284e+00 \n",
      "\n"
     ]
    }
   ],
   "source": []
  },
  {
   "cell_type": "code",
   "execution_count": null,
   "metadata": {},
   "outputs": [],
   "source": [
    "\n",
    "# before strating, check elbo of the data and true parameters\n",
    "runEM = EM_estimation(debug=True)\n",
    "max_elbo = runEM.calculate_apprx_elbo(trainset, dyn, trainset['obs'])\n",
    "print('Elbo with true parameters: {0:.3e}'.format(max_elbo.numpy().item()))\n",
    "\n",
    "random_elbo = runEM.calculate_apprx_elbo(trainset, dyn, model)\n",
    "print('Elbo with random model: {0:.3e}'.format(random_elbo.numpy().item()))"
   ]
  }
 ],
 "metadata": {
  "kernelspec": {
   "display_name": "tracking",
   "language": "python",
   "name": "tracking"
  },
  "language_info": {
   "codemirror_mode": {
    "name": "ipython",
    "version": 3
   },
   "file_extension": ".py",
   "mimetype": "text/x-python",
   "name": "python",
   "nbconvert_exporter": "python",
   "pygments_lexer": "ipython3",
   "version": "3.7.10"
  }
 },
 "nbformat": 4,
 "nbformat_minor": 4
}
